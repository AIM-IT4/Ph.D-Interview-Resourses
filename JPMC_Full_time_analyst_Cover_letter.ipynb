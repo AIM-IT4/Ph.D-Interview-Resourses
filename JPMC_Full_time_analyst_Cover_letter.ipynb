{
  "nbformat": 4,
  "nbformat_minor": 0,
  "metadata": {
    "colab": {
      "provenance": []
    },
    "kernelspec": {
      "name": "python3",
      "display_name": "Python 3"
    },
    "language_info": {
      "name": "python"
    }
  },
  "cells": [
    {
      "cell_type": "markdown",
      "source": [
        "\n",
        "\n",
        "![image.png](data:image/png;base64,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)\n"
      ],
      "metadata": {
        "id": "GTecsJ08WpeG"
      }
    },
    {
      "cell_type": "markdown",
      "source": [
        "JPMorgan Chase & Co,\n",
        "\n",
        "India Offices\n",
        "\n",
        "Bengaluru\n",
        "\n",
        "Dear Sir/Madam,\n",
        "\n",
        "I am writing in regards to applying for the Full Time Analyst role within the Global Wealth Management division of JP Morgan which I can commence with from summer 2022 onwards. The asset management division is one that greatly appeals to me due to its ability to play a pivotal role towards the level of success within an organisation such as JP Morgan.\n",
        "\n",
        "I am in my final year studying MSc Economics at Indian Institute of Technology Jodhpur on track to achieve a first class degree. I recently finished my one-year industrial placement as a Financial Analyst at IIT Roorkee following an intense search and applications process. Here I gained valuable competencies such as analytical, communication and interpersonal skills while playing a key role in the Financial Planning and Analysis Team.\n",
        "\n",
        "During my placement I undertook forecasting and budgeting, as well as analysing trends in the market. I also produced ad-hoc reports for senior executives in the company and often presented the findings of the reports, which further developed my communication skills and self-confidence.\n",
        "\n",
        "Academically, I won a 100% scholarship to study my degree. I also hold a CFA for Corporate Finance Regulation and thus well-versed in the required standards for client management in the finance industry and other regulated activities in line with FCA regulation. I am always eager to learn more about the financial markets and the way they operate. Working at JP Morgan would give me a fantastic opportunity to bring my research and analytical skills to practice by looking for long/short term investment opportunities working alongside top tier professionals in the industry.\n",
        "\n",
        "Additionally, I am confident that I could make a substantial contribution within JP Morgan since I can work well under pressure, am highly numerate with a good knowledge of financial modelling that I have gained from the modules I’ve studied at University including Financial Engineering and Risk Management.Currently we are seeing the roles of asset managers and institutional investors expanding within the financial industry and I am keen to play a part in this major development.\n",
        "\n",
        "I would relish the chance to work within JP Morgan as I’m impressed with how the firm values its clients as well as its employees, and can see my career developing strongly as a part of this organisation since there are so many career development opportunities available within JP Morgan.\n",
        "\n",
        "Thanks for your time and consideration.\n",
        "\n",
        "Yours Faithfully,\n",
        "\n",
        "------------------"
      ],
      "metadata": {
        "id": "r3LoospFWDEA"
      }
    }
  ]
}